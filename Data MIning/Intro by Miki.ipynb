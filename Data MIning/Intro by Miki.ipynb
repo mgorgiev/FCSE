{
 "cells": [
  {
   "cell_type": "code",
   "execution_count": 1,
   "id": "197a9e2b",
   "metadata": {},
   "outputs": [
    {
     "data": {
      "text/plain": [
       "3"
      ]
     },
     "execution_count": 1,
     "metadata": {},
     "output_type": "execute_result"
    }
   ],
   "source": [
    "x=3\n",
    "x"
   ]
  },
  {
   "cell_type": "code",
   "execution_count": 2,
   "id": "1ab61d0b",
   "metadata": {},
   "outputs": [
    {
     "name": "stdout",
     "output_type": "stream",
     "text": [
      "najak\n"
     ]
    }
   ],
   "source": [
    "print(\"najak\")"
   ]
  },
  {
   "cell_type": "code",
   "execution_count": 3,
   "id": "08889972",
   "metadata": {},
   "outputs": [
    {
     "data": {
      "text/plain": [
       "6"
      ]
     },
     "execution_count": 3,
     "metadata": {},
     "output_type": "execute_result"
    }
   ],
   "source": [
    "x+x"
   ]
  },
  {
   "cell_type": "code",
   "execution_count": 4,
   "id": "be768f37",
   "metadata": {},
   "outputs": [
    {
     "name": "stdout",
     "output_type": "stream",
     "text": [
      "<class 'int'>\n"
     ]
    }
   ],
   "source": [
    "print(type(x))"
   ]
  },
  {
   "cell_type": "code",
   "execution_count": 5,
   "id": "dabcbb13",
   "metadata": {},
   "outputs": [
    {
     "data": {
      "text/plain": [
       "9"
      ]
     },
     "execution_count": 5,
     "metadata": {},
     "output_type": "execute_result"
    }
   ],
   "source": [
    "x**2\n"
   ]
  },
  {
   "cell_type": "code",
   "execution_count": 8,
   "id": "ab83fdac",
   "metadata": {},
   "outputs": [
    {
     "name": "stdout",
     "output_type": "stream",
     "text": [
      "10\n",
      "9\n",
      "8\n",
      "7\n",
      "6\n",
      "5\n",
      "4\n",
      "3\n",
      "2\n"
     ]
    }
   ],
   "source": [
    "i=10\n",
    "while(i>1):\n",
    "    \n",
    "    print(i)\n",
    "    i=i-1"
   ]
  },
  {
   "cell_type": "code",
   "execution_count": 13,
   "id": "46c579f1",
   "metadata": {},
   "outputs": [
    {
     "name": "stdout",
     "output_type": "stream",
     "text": [
      "0\n",
      "3\n",
      "6\n",
      "9\n"
     ]
    }
   ],
   "source": [
    "for i in range(0,10,3):\n",
    "    print(i)"
   ]
  },
  {
   "cell_type": "markdown",
   "id": "8112baff",
   "metadata": {},
   "source": [
    "# LIST\n",
    "#### Ordering"
   ]
  },
  {
   "cell_type": "code",
   "execution_count": 14,
   "id": "0a8e306f",
   "metadata": {},
   "outputs": [
    {
     "name": "stdout",
     "output_type": "stream",
     "text": [
      "[1, 'chicken', False, 2.2]\n"
     ]
    }
   ],
   "source": [
    "lista=[1,\"chicken\",False,2.2]\n",
    "print(lista)"
   ]
  },
  {
   "cell_type": "code",
   "execution_count": 15,
   "id": "abf105cc",
   "metadata": {},
   "outputs": [
    {
     "data": {
      "text/plain": [
       "2.2"
      ]
     },
     "execution_count": 15,
     "metadata": {},
     "output_type": "execute_result"
    }
   ],
   "source": [
    "lista.pop()"
   ]
  },
  {
   "cell_type": "code",
   "execution_count": 16,
   "id": "cf8e6e74",
   "metadata": {},
   "outputs": [
    {
     "name": "stdout",
     "output_type": "stream",
     "text": [
      "[1, 'chicken', False]\n"
     ]
    }
   ],
   "source": [
    "print(lista)"
   ]
  },
  {
   "cell_type": "code",
   "execution_count": 18,
   "id": "e2d11153",
   "metadata": {},
   "outputs": [],
   "source": [
    "lista.append(2.2)"
   ]
  },
  {
   "cell_type": "code",
   "execution_count": 23,
   "id": "69db120b",
   "metadata": {},
   "outputs": [
    {
     "data": {
      "text/plain": [
       "[2, [2]]"
      ]
     },
     "execution_count": 23,
     "metadata": {},
     "output_type": "execute_result"
    }
   ],
   "source": [
    "([1,2]+[[2],[3,3]])[1:3]"
   ]
  },
  {
   "cell_type": "code",
   "execution_count": 27,
   "id": "678bbb59",
   "metadata": {},
   "outputs": [
    {
     "data": {
      "text/plain": [
       "[1, 'chicken', False, 2.2]"
      ]
     },
     "execution_count": 27,
     "metadata": {},
     "output_type": "execute_result"
    }
   ],
   "source": [
    "lista"
   ]
  },
  {
   "cell_type": "markdown",
   "id": "b2c2393d",
   "metadata": {},
   "source": [
    "## Dictionaries\n",
    "key value pairs"
   ]
  },
  {
   "cell_type": "code",
   "execution_count": 31,
   "id": "14c5f38a",
   "metadata": {},
   "outputs": [
    {
     "data": {
      "text/plain": [
       "{'Push': 'Chest and Triceps', 'Pull': 'Back and Biceps', 'Legs': 'Legs'}"
      ]
     },
     "execution_count": 31,
     "metadata": {},
     "output_type": "execute_result"
    }
   ],
   "source": [
    "gym={\n",
    "    \"Push\": \"Chest and Triceps\",\n",
    "    \"Pull\": \"Back and Biceps\",\n",
    "    \"Legs\": \"Legs\"\n",
    "}\n",
    "gym\n"
   ]
  },
  {
   "cell_type": "code",
   "execution_count": 32,
   "id": "f8e45c4a",
   "metadata": {},
   "outputs": [
    {
     "data": {
      "text/plain": [
       "'Chest and Triceps'"
      ]
     },
     "execution_count": 32,
     "metadata": {},
     "output_type": "execute_result"
    }
   ],
   "source": [
    "gym['Push']"
   ]
  },
  {
   "cell_type": "code",
   "execution_count": 33,
   "id": "6e3b3ae8",
   "metadata": {},
   "outputs": [
    {
     "data": {
      "text/plain": [
       "dict_keys(['Push', 'Pull', 'Legs'])"
      ]
     },
     "execution_count": 33,
     "metadata": {},
     "output_type": "execute_result"
    }
   ],
   "source": [
    "gym.keys()"
   ]
  },
  {
   "cell_type": "code",
   "execution_count": 34,
   "id": "dcf3ebbb",
   "metadata": {},
   "outputs": [
    {
     "data": {
      "text/plain": [
       "dict_values(['Chest and Triceps', 'Back and Biceps', 'Legs'])"
      ]
     },
     "execution_count": 34,
     "metadata": {},
     "output_type": "execute_result"
    }
   ],
   "source": [
    "gym.values()"
   ]
  },
  {
   "cell_type": "code",
   "execution_count": 35,
   "id": "3ca2967a",
   "metadata": {},
   "outputs": [],
   "source": [
    "gym[\"Shoulders\"]='Side Delts'"
   ]
  },
  {
   "cell_type": "code",
   "execution_count": 36,
   "id": "7e08a6cf",
   "metadata": {},
   "outputs": [
    {
     "data": {
      "text/plain": [
       "{'Push': 'Chest and Triceps',\n",
       " 'Pull': 'Back and Biceps',\n",
       " 'Legs': 'Legs',\n",
       " 'Shoulders': 'Side Delts'}"
      ]
     },
     "execution_count": 36,
     "metadata": {},
     "output_type": "execute_result"
    }
   ],
   "source": [
    "gym"
   ]
  },
  {
   "cell_type": "code",
   "execution_count": 39,
   "id": "a61c8aa9",
   "metadata": {},
   "outputs": [
    {
     "name": "stdout",
     "output_type": "stream",
     "text": [
      "Push = Chest and Triceps\n",
      "Pull = Back and Biceps\n",
      "Legs = Legs\n",
      "Shoulders = Side Delts\n"
     ]
    }
   ],
   "source": [
    "for a,b in gym.items():\n",
    "    print(a + \" = \" + b)"
   ]
  },
  {
   "cell_type": "markdown",
   "id": "54b99576",
   "metadata": {},
   "source": [
    "# TUPPLE\n",
    "## immutable "
   ]
  },
  {
   "cell_type": "code",
   "execution_count": 41,
   "id": "0519dfa8",
   "metadata": {},
   "outputs": [
    {
     "data": {
      "text/plain": [
       "(10, 'Disco', False)"
      ]
     },
     "execution_count": 41,
     "metadata": {},
     "output_type": "execute_result"
    }
   ],
   "source": [
    "tupple=(10,\"Disco\",False)\n",
    "tupple"
   ]
  },
  {
   "cell_type": "markdown",
   "id": "a4374e49",
   "metadata": {},
   "source": [
    "SLicno kako listi\n"
   ]
  },
  {
   "cell_type": "markdown",
   "id": "c0316982",
   "metadata": {},
   "source": [
    "# Sets"
   ]
  },
  {
   "cell_type": "code",
   "execution_count": 42,
   "id": "f945e094",
   "metadata": {},
   "outputs": [
    {
     "name": "stdout",
     "output_type": "stream",
     "text": [
      "True\n"
     ]
    },
    {
     "data": {
      "text/plain": [
       "{'cats'}"
      ]
     },
     "execution_count": 42,
     "metadata": {},
     "output_type": "execute_result"
    }
   ],
   "source": [
    "animals= {'cats','dogs'}\n",
    "print('cats' in animals)\n",
    "animals.remove(\"dogs\")\n",
    "animals"
   ]
  },
  {
   "cell_type": "code",
   "execution_count": 47,
   "id": "5a9575aa",
   "metadata": {},
   "outputs": [
    {
     "name": "stdout",
     "output_type": "stream",
     "text": [
      "Miki e najak \n"
     ]
    }
   ],
   "source": [
    "name=\"Miki\"\n",
    "def dodaj_enajak(arg):\n",
    "    print(f'{arg} e najak ')\n",
    "dodaj_enajak(name)"
   ]
  },
  {
   "cell_type": "code",
   "execution_count": 50,
   "id": "4c6be8f2",
   "metadata": {},
   "outputs": [
    {
     "name": "stdout",
     "output_type": "stream",
     "text": [
      "Hello Miki\n",
      "100\n"
     ]
    }
   ],
   "source": [
    "class Greeter:\n",
    "    age=100\n",
    "    def __init__(self,name):\n",
    "        self.name=name\n",
    "    def greet(self):\n",
    "        print(\"Hello \"+name)\n",
    "g=Greeter(\"Miki\")\n",
    "g.greet()\n",
    "print(g.age)"
   ]
  },
  {
   "cell_type": "markdown",
   "id": "aeb0a7f1",
   "metadata": {},
   "source": [
    "# Packages"
   ]
  },
  {
   "cell_type": "code",
   "execution_count": 51,
   "id": "07f2ebd9",
   "metadata": {},
   "outputs": [],
   "source": [
    "import json"
   ]
  },
  {
   "cell_type": "markdown",
   "id": "aa8a9e07",
   "metadata": {},
   "source": [
    "# JSON"
   ]
  },
  {
   "cell_type": "code",
   "execution_count": 52,
   "id": "9fce7095",
   "metadata": {},
   "outputs": [],
   "source": [
    "gym={\n",
    "    \"Push\": \"Chest and Triceps\",\n",
    "    \"Pull\": \"Back and Biceps\",\n",
    "    \"Legs\": \"Legs\"\n",
    "}"
   ]
  },
  {
   "cell_type": "code",
   "execution_count": 53,
   "id": "bddb1da3",
   "metadata": {},
   "outputs": [
    {
     "data": {
      "text/plain": [
       "'{\"Push\": \"Chest and Triceps\", \"Pull\": \"Back and Biceps\", \"Legs\": \"Legs\"}'"
      ]
     },
     "execution_count": 53,
     "metadata": {},
     "output_type": "execute_result"
    }
   ],
   "source": [
    "gym_json=json.dumps(gym)\n",
    "gym_json"
   ]
  },
  {
   "cell_type": "code",
   "execution_count": 54,
   "id": "f3486b15",
   "metadata": {},
   "outputs": [
    {
     "data": {
      "text/plain": [
       "{'Push': 'Chest and Triceps', 'Pull': 'Back and Biceps', 'Legs': 'Legs'}"
      ]
     },
     "execution_count": 54,
     "metadata": {},
     "output_type": "execute_result"
    }
   ],
   "source": [
    "json.loads(gym_json)"
   ]
  },
  {
   "cell_type": "markdown",
   "id": "b56647ef",
   "metadata": {},
   "source": [
    "# PIP"
   ]
  },
  {
   "cell_type": "code",
   "execution_count": 61,
   "id": "a2a5c0b7",
   "metadata": {},
   "outputs": [
    {
     "name": "stdout",
     "output_type": "stream",
     "text": [
      "Defaulting to user installation because normal site-packages is not writeable\n",
      "Requirement already satisfied: numpy in c:\\users\\gorgi\\appdata\\roaming\\python\\python310\\site-packages (1.24.2)\n"
     ]
    },
    {
     "name": "stderr",
     "output_type": "stream",
     "text": [
      "\n",
      "[notice] A new release of pip is available: 24.0 -> 24.2\n",
      "[notice] To update, run: python.exe -m pip install --upgrade pip\n"
     ]
    }
   ],
   "source": [
    "#pip install <package name>\n",
    "#pip list\n",
    "import requests\n",
    "import json\n",
    "!pip install numpy"
   ]
  },
  {
   "cell_type": "markdown",
   "id": "465c97ef",
   "metadata": {},
   "source": [
    "# Magics"
   ]
  },
  {
   "cell_type": "code",
   "execution_count": 62,
   "id": "d87cb602",
   "metadata": {},
   "outputs": [
    {
     "name": "stdout",
     "output_type": "stream",
     "text": [
      "x=3\n",
      "x\n",
      "print(\"najak\")\n",
      "x+x\n",
      "print(type(x))\n",
      "x**2\n",
      "i=10\n",
      "while(i>1):\n",
      "    i=i-1\n",
      "    print(i)\n",
      "for i in range(0,10):\n",
      "    print(i)\n",
      "i=10\n",
      "while(i>1):\n",
      "    \n",
      "    print(i)\n",
      "    i=i-1\n",
      "for i in range(0,10):\n",
      "    print(False)\n",
      "for i in range(0,10):\n",
      "    print(i)\n",
      "print(range(0,10))\n",
      "for i in range(0,10,0.1):\n",
      "    print(i)\n",
      "for i in range(0,10,3):\n",
      "    print(i)\n",
      "lista=[1,\"chicken\",False,2.2]\n",
      "print(lista)\n",
      "lista.pop()\n",
      "print(lista)\n",
      "lista.append(2,2)\n",
      "lista.append(2.2)\n",
      "[1,2]+[[2],[3,3]]\n",
      "[[1,2]+[[2],[3,3]]][0]\n",
      "[1,2]+[[2],[3,3]][0]\n",
      "([1,2]+[[2],[3,3]])[0]\n",
      "([1,2]+[[2],[3,3]])[1:3]\n",
      "for item in lista:\n",
      "    print(item)\n",
      "for item in lista:\n",
      "    print(item+\"sakas\")\n",
      "lista.sort()\n",
      "lista\n",
      "gym={\n",
      "    \"push\":\n",
      "}\n",
      "gym={\n",
      "    \"push\":\"chest\"\n",
      "    \"pull\":\"Back\"\n",
      "    \"legs\":\"arms\"\n",
      "}\n",
      "gym\n",
      "gym={\n",
      "    \"push\": \"Chest\",\n",
      "    \"pull\": \"Back\",\n",
      "    \"legs\": \"Arms\"\n",
      "}\n",
      "gym\n",
      "gym={\n",
      "    \"Push\": \"Chest and Triceps\",\n",
      "    \"Pull\": \"Back and Biceps\",\n",
      "    \"Legs\": \"Legs\"\n",
      "}\n",
      "gym\n",
      "gym['Push']\n",
      "gym.keys()\n",
      "gym.values()\n",
      "gym[\"Shoulders\"]='Side Delts'\n",
      "gym\n",
      "for a,v in animals.items():\n",
      "    print(a + \" = \" + b)\n",
      "for a,v in gym.items():\n",
      "    print(a + \" = \" + b)\n",
      "for a,b in gym.items():\n",
      "    print(a + \" = \" + b)\n",
      "tupple=(10,\"Disco\",False)\n",
      "tupple=(10,\"Disco\",False)\n",
      "tupple\n",
      "animals= {'cats','dogs'}\n",
      "print('cats' in animals)\n",
      "animals.remove(\"dogs\")\n",
      "animals\n",
      "name=\"Miki\"\n",
      "def dodaj_enajak(arg):\n",
      "    print(f'{arg}+\" e najak \"')\n",
      "name=\"Miki\"\n",
      "def dodaj_enajak(arg):\n",
      "    print(f'{arg}+\" e najak \"')\n",
      "dodaj_enajak(name)\n",
      "name=\"Miki\"\n",
      "def dodaj_enajak(arg):\n",
      "    print(f'{arg}+\" e najak \"')\n",
      "dodaj_enajak(name)\n",
      "name=\"Miki\"\n",
      "def dodaj_enajak(arg):\n",
      "    print(f'{arg}\" e najak \"')\n",
      "dodaj_enajak(name)\n",
      "name=\"Miki\"\n",
      "def dodaj_enajak(arg):\n",
      "    print(f'{arg} e najak ')\n",
      "dodaj_enajak(name)\n",
      "class Greeter:\n",
      "    age=100\n",
      "    def __init__(self,name):\n",
      "        self.name=name\n",
      "    def greet(self):\n",
      "        print(\"hello\"+name)\n",
      "g=Greeter(\"miki\")\n",
      "g.greet()\n",
      "print(g.age)\n",
      "class Greeter:\n",
      "    age=100\n",
      "    def __init__(self,name):\n",
      "        self.name=name\n",
      "    def greet(self):\n",
      "        print(\"hello\"+name)\n",
      "g=Greeter(\"miki\")\n",
      "g.greet()\n",
      "print(g.age)\n",
      "class Greeter:\n",
      "    age=100\n",
      "    def __init__(self,name):\n",
      "        self.name=name\n",
      "    def greet(self):\n",
      "        print(\"Hello \"+name)\n",
      "g=Greeter(\"Miki\")\n",
      "g.greet()\n",
      "print(g.age)\n",
      "import json\n",
      "gym={\n",
      "    \"Push\": \"Chest and Triceps\",\n",
      "    \"Pull\": \"Back and Biceps\",\n",
      "    \"Legs\": \"Legs\"\n",
      "}\n",
      "gym_json=json.dumps(gym)\n",
      "gym_json\n",
      "json.loads(gym_json)\n",
      "pip install <package name>\n",
      "#pip install <package name>\n",
      "#pip install <package name>\n",
      "pip list\n",
      "#pip install <package name>\n",
      "#pip list\n",
      "import requests\n",
      "#pip install <package name>\n",
      "#pip list\n",
      "import requests\n",
      "import json\n",
      "#pip install <package name>\n",
      "#pip list\n",
      "import requests\n",
      "import json\n",
      "resp=requests.get('/http://api,osf,io/v2/nodes/')\n",
      "#pip install <package name>\n",
      "#pip list\n",
      "import requests\n",
      "import json\n",
      "!pip install numpy\n",
      "%history\n"
     ]
    }
   ],
   "source": [
    "%history\n"
   ]
  },
  {
   "cell_type": "code",
   "execution_count": 63,
   "id": "9368b049",
   "metadata": {},
   "outputs": [
    {
     "data": {
      "text/plain": [
       "'C:\\\\Users\\\\gorgi'"
      ]
     },
     "execution_count": 63,
     "metadata": {},
     "output_type": "execute_result"
    }
   ],
   "source": [
    "%pwd\n"
   ]
  },
  {
   "cell_type": "code",
   "execution_count": 64,
   "id": "d40a130e",
   "metadata": {},
   "outputs": [
    {
     "name": "stdout",
     "output_type": "stream",
     "text": [
      "CPU times: total: 0 ns\n",
      "Wall time: 0 ns\n"
     ]
    }
   ],
   "source": [
    "%time"
   ]
  },
  {
   "cell_type": "code",
   "execution_count": null,
   "id": "0d1ab3a0",
   "metadata": {},
   "outputs": [],
   "source": []
  }
 ],
 "metadata": {
  "kernelspec": {
   "display_name": "Python 3 (ipykernel)",
   "language": "python",
   "name": "python3"
  },
  "language_info": {
   "codemirror_mode": {
    "name": "ipython",
    "version": 3
   },
   "file_extension": ".py",
   "mimetype": "text/x-python",
   "name": "python",
   "nbconvert_exporter": "python",
   "pygments_lexer": "ipython3",
   "version": "3.10.9"
  }
 },
 "nbformat": 4,
 "nbformat_minor": 5
}
